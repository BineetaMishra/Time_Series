{
 "cells": [
  {
   "cell_type": "markdown",
   "metadata": {},
   "source": [
    "# Keras Basics"
   ]
  },
  {
   "cell_type": "code",
   "execution_count": 2,
   "metadata": {},
   "outputs": [],
   "source": [
    "import keras  \n",
    "import matplotlib.pyplot as plt\n",
    "import numpy as np\n",
    "import pandas as pd"
   ]
  },
  {
   "cell_type": "markdown",
   "metadata": {},
   "source": [
    "### y = mx+b +noise"
   ]
  },
  {
   "cell_type": "code",
   "execution_count": 3,
   "metadata": {},
   "outputs": [],
   "source": [
    "m=2\n",
    "b=3\n",
    "x = np.linspace(0,50,100)"
   ]
  },
  {
   "cell_type": "code",
   "execution_count": 4,
   "metadata": {},
   "outputs": [],
   "source": [
    "np.random.seed(101)\n",
    "noise = np.random.normal(loc=0,scale=4,size=len(x))"
   ]
  },
  {
   "cell_type": "code",
   "execution_count": 6,
   "metadata": {},
   "outputs": [],
   "source": [
    "#noise"
   ]
  },
  {
   "cell_type": "code",
   "execution_count": 8,
   "metadata": {},
   "outputs": [],
   "source": [
    "#x"
   ]
  },
  {
   "cell_type": "code",
   "execution_count": 9,
   "metadata": {},
   "outputs": [],
   "source": [
    "y= 2*x +b +noise"
   ]
  },
  {
   "cell_type": "code",
   "execution_count": 11,
   "metadata": {},
   "outputs": [],
   "source": [
    "#y"
   ]
  },
  {
   "cell_type": "code",
   "execution_count": 12,
   "metadata": {},
   "outputs": [
    {
     "data": {
      "text/plain": [
       "[<matplotlib.lines.Line2D at 0x24138cfdf08>]"
      ]
     },
     "execution_count": 12,
     "metadata": {},
     "output_type": "execute_result"
    },
    {
     "data": {
      "image/png": "[encoded data removed]",
      "text/plain": [
       "<Figure size 432x288 with 1 Axes>"
      ]
     },
     "metadata": {
      "needs_background": "light"
     },
     "output_type": "display_data"
    }
   ],
   "source": [
    "plt.plot(x,y,'*')"
   ]
  },
  {
   "cell_type": "markdown",
   "metadata": {},
   "source": [
    "<strong> Create  a neural network that will try to find the line that is best filt for this model"
   ]
  },
  {
   "cell_type": "code",
   "execution_count": 13,
   "metadata": {},
   "outputs": [],
   "source": [
    "from keras.models import Sequential\n",
    "from keras.layers import Dense"
   ]
  },
  {
   "cell_type": "code",
   "execution_count": 31,
   "metadata": {},
   "outputs": [],
   "source": [
    "## model.add(Dense(no of neuraon, input_dimension,activation_function='linear'))\n",
    "## for putput layermodel.add(Dense(4,activation='relu'))\n",
    "model= Sequential()\n",
    "\n",
    "model.add(Dense(4,input_dim=1,activation='relu'))\n",
    "\n",
    "model.add(Dense(4,activation='relu'))\n",
    "\n",
    "# Final Layer\n",
    "model.add(Dense(1,activation='linear'))\n",
    "\n",
    "# Compile this\n",
    "model.compile(loss='mse',optimizer= 'adam')"
   ]
  },
  {
   "cell_type": "code",
   "execution_count": 34,
   "metadata": {},
   "outputs": [
    {
     "name": "stdout",
     "output_type": "stream",
     "text": [
      "Model: \"sequential_4\"\n",
      "_________________________________________________________________\n",
      "Layer (type)                 Output Shape              Param #   \n",
      "=================================================================\n",
      "dense_13 (Dense)             (None, 4)                 8         \n",
      "_________________________________________________________________\n",
      "dense_14 (Dense)             (None, 4)                 20        \n",
      "_________________________________________________________________\n",
      "dense_15 (Dense)             (None, 1)                 5         \n",
      "=================================================================\n",
      "Total params: 33\n",
      "Trainable params: 33\n",
      "Non-trainable params: 0\n",
      "_________________________________________________________________\n"
     ]
    }
   ],
   "source": [
    "model.summary()"
   ]
  },
  {
   "cell_type": "code",
   "execution_count": 35,
   "metadata": {},
   "outputs": [
    {
     "name": "stdout",
     "output_type": "stream",
     "text": [
      "Epoch 1/200\n",
      "4/4 [==============================] - 0s 998us/step - loss: 2892.5556\n",
      "Epoch 2/200\n",
      "4/4 [==============================] - 0s 1ms/step - loss: 2914.8864\n",
      "Epoch 3/200\n",
      "4/4 [==============================] - 0s 1ms/step - loss: 2939.6238\n",
      "Epoch 4/200\n",
      "4/4 [==============================] - 0s 2ms/step - loss: 2738.9886\n",
      "Epoch 5/200\n",
      "4/4 [==============================] - 0s 1ms/step - loss: 2700.7227\n",
      "Epoch 6/200\n",
      "4/4 [==============================] - 0s 2ms/step - loss: 2592.5120\n",
      "Epoch 7/200\n",
      "4/4 [==============================] - 0s 2ms/step - loss: 2805.9607\n",
      "Epoch 8/200\n",
      "4/4 [==============================] - 0s 1ms/step - loss: 2513.6571\n",
      "Epoch 9/200\n",
      "4/4 [==============================] - 0s 2ms/step - loss: 2695.7176\n",
      "Epoch 10/200\n",
      "4/4 [==============================] - 0s 2ms/step - loss: 2654.6946\n",
      "Epoch 11/200\n",
      "4/4 [==============================] - 0s 2ms/step - loss: 2724.3046\n",
      "Epoch 12/200\n",
      "4/4 [==============================] - 0s 2ms/step - loss: 2507.1337\n",
      "Epoch 13/200\n",
      "4/4 [==============================] - 0s 2ms/step - loss: 2575.9894\n",
      "Epoch 14/200\n",
      "4/4 [==============================] - 0s 2ms/step - loss: 2549.1399\n",
      "Epoch 15/200\n",
      "4/4 [==============================] - 0s 2ms/step - loss: 2391.6849\n",
      "Epoch 16/200\n",
      "4/4 [==============================] - 0s 1ms/step - loss: 2558.9969\n",
      "Epoch 17/200\n",
      "4/4 [==============================] - 0s 2ms/step - loss: 2693.3359\n",
      "Epoch 18/200\n",
      "4/4 [==============================] - 0s 2ms/step - loss: 2577.7526\n",
      "Epoch 19/200\n",
      "4/4 [==============================] - 0s 2ms/step - loss: 2477.3328\n",
      "Epoch 20/200\n",
      "4/4 [==============================] - 0s 2ms/step - loss: 2443.9850\n",
      "Epoch 21/200\n",
      "4/4 [==============================] - 0s 2ms/step - loss: 2346.7135\n",
      "Epoch 22/200\n",
      "4/4 [==============================] - 0s 1ms/step - loss: 2392.8916\n",
      "Epoch 23/200\n",
      "4/4 [==============================] - 0s 2ms/step - loss: 2259.3693\n",
      "Epoch 24/200\n",
      "4/4 [==============================] - 0s 1ms/step - loss: 2333.7948\n",
      "Epoch 25/200\n",
      "4/4 [==============================] - 0s 1ms/step - loss: 2300.7119\n",
      "Epoch 26/200\n",
      "4/4 [==============================] - 0s 2ms/step - loss: 2252.9352\n",
      "Epoch 27/200\n",
      "4/4 [==============================] - 0s 2ms/step - loss: 2211.9230\n",
      "Epoch 28/200\n",
      "4/4 [==============================] - 0s 2ms/step - loss: 2313.0646\n",
      "Epoch 29/200\n",
      "4/4 [==============================] - 0s 2ms/step - loss: 2142.6963\n",
      "Epoch 30/200\n",
      "4/4 [==============================] - 0s 2ms/step - loss: 2027.8414\n",
      "Epoch 31/200\n",
      "4/4 [==============================] - 0s 1ms/step - loss: 2105.4903\n",
      "Epoch 32/200\n",
      "4/4 [==============================] - 0s 2ms/step - loss: 2008.8130\n",
      "Epoch 33/200\n",
      "4/4 [==============================] - 0s 2ms/step - loss: 2230.7225\n",
      "Epoch 34/200\n",
      "4/4 [==============================] - 0s 998us/step - loss: 1934.8577\n",
      "Epoch 35/200\n",
      "4/4 [==============================] - 0s 2ms/step - loss: 1999.6680\n",
      "Epoch 36/200\n",
      "4/4 [==============================] - 0s 1ms/step - loss: 2042.9144\n",
      "Epoch 37/200\n",
      "4/4 [==============================] - 0s 1ms/step - loss: 1854.4800\n",
      "Epoch 38/200\n",
      "4/4 [==============================] - 0s 997us/step - loss: 1950.3616\n",
      "Epoch 39/200\n",
      "4/4 [==============================] - 0s 1ms/step - loss: 1905.7951\n",
      "Epoch 40/200\n",
      "4/4 [==============================] - 0s 1ms/step - loss: 1992.4693\n",
      "Epoch 41/200\n",
      "4/4 [==============================] - 0s 997us/step - loss: 1767.1828\n",
      "Epoch 42/200\n",
      "4/4 [==============================] - 0s 1ms/step - loss: 1693.5820\n",
      "Epoch 43/200\n",
      "4/4 [==============================] - 0s 2ms/step - loss: 1655.8712\n",
      "Epoch 44/200\n",
      "4/4 [==============================] - 0s 2ms/step - loss: 1707.9165\n",
      "Epoch 45/200\n",
      "4/4 [==============================] - 0s 2ms/step - loss: 1764.4758\n",
      "Epoch 46/200\n",
      "4/4 [==============================] - 0s 2ms/step - loss: 1669.5648\n",
      "Epoch 47/200\n",
      "4/4 [==============================] - 0s 3ms/step - loss: 1587.7337\n",
      "Epoch 48/200\n",
      "4/4 [==============================] - 0s 2ms/step - loss: 1460.1549\n",
      "Epoch 49/200\n",
      "4/4 [==============================] - 0s 2ms/step - loss: 1548.5976\n",
      "Epoch 50/200\n",
      "4/4 [==============================] - 0s 2ms/step - loss: 1466.5416\n",
      "Epoch 51/200\n",
      "4/4 [==============================] - 0s 2ms/step - loss: 1504.1088\n",
      "Epoch 52/200\n",
      "4/4 [==============================] - ETA: 0s - loss: 1184.20 - 0s 2ms/step - loss: 1361.9399\n",
      "Epoch 53/200\n",
      "4/4 [==============================] - 0s 2ms/step - loss: 1381.4586\n",
      "Epoch 54/200\n",
      "4/4 [==============================] - 0s 2ms/step - loss: 1486.9894\n",
      "Epoch 55/200\n",
      "4/4 [==============================] - 0s 997us/step - loss: 1227.9863\n",
      "Epoch 56/200\n",
      "4/4 [==============================] - 0s 2ms/step - loss: 1293.4083\n",
      "Epoch 57/200\n",
      "4/4 [==============================] - 0s 1ms/step - loss: 1324.1226\n",
      "Epoch 58/200\n",
      "4/4 [==============================] - 0s 997us/step - loss: 1248.9280\n",
      "Epoch 59/200\n",
      "4/4 [==============================] - 0s 2ms/step - loss: 1203.3062\n",
      "Epoch 60/200\n",
      "4/4 [==============================] - 0s 997us/step - loss: 1155.5471\n",
      "Epoch 61/200\n",
      "4/4 [==============================] - 0s 1ms/step - loss: 1155.2118\n",
      "Epoch 62/200\n",
      "4/4 [==============================] - 0s 2ms/step - loss: 1132.3831\n",
      "Epoch 63/200\n",
      "4/4 [==============================] - 0s 2ms/step - loss: 1044.2749\n",
      "Epoch 64/200\n",
      "4/4 [==============================] - 0s 2ms/step - loss: 1007.3682\n",
      "Epoch 65/200\n",
      "4/4 [==============================] - 0s 1ms/step - loss: 1024.4420\n",
      "Epoch 66/200\n",
      "4/4 [==============================] - 0s 2ms/step - loss: 1002.6381\n",
      "Epoch 67/200\n",
      "4/4 [==============================] - 0s 2ms/step - loss: 930.7514\n",
      "Epoch 68/200\n",
      "4/4 [==============================] - 0s 2ms/step - loss: 922.5796\n",
      "Epoch 69/200\n",
      "4/4 [==============================] - 0s 2ms/step - loss: 889.8136\n",
      "Epoch 70/200\n",
      "4/4 [==============================] - 0s 2ms/step - loss: 881.9815\n",
      "Epoch 71/200\n",
      "4/4 [==============================] - 0s 1ms/step - loss: 813.5169\n",
      "Epoch 72/200\n",
      "4/4 [==============================] - 0s 2ms/step - loss: 791.4627\n",
      "Epoch 73/200\n",
      "4/4 [==============================] - 0s 983us/step - loss: 736.6152\n",
      "Epoch 74/200\n",
      "4/4 [==============================] - 0s 2ms/step - loss: 739.7476\n",
      "Epoch 75/200\n",
      "4/4 [==============================] - 0s 1ms/step - loss: 698.7124\n",
      "Epoch 76/200\n",
      "4/4 [==============================] - 0s 2ms/step - loss: 659.4873\n",
      "Epoch 77/200\n",
      "4/4 [==============================] - 0s 1ms/step - loss: 674.1462\n",
      "Epoch 78/200\n",
      "4/4 [==============================] - 0s 997us/step - loss: 639.9365\n",
      "Epoch 79/200\n",
      "4/4 [==============================] - 0s 1ms/step - loss: 566.0655\n",
      "Epoch 80/200\n",
      "4/4 [==============================] - 0s 1ms/step - loss: 609.2116\n",
      "Epoch 81/200\n",
      "4/4 [==============================] - 0s 998us/step - loss: 551.5208\n",
      "Epoch 82/200\n",
      "4/4 [==============================] - 0s 997us/step - loss: 518.0839\n",
      "Epoch 83/200\n",
      "4/4 [==============================] - 0s 1ms/step - loss: 547.2848\n",
      "Epoch 84/200\n",
      "4/4 [==============================] - 0s 1ms/step - loss: 489.1586\n",
      "Epoch 85/200\n",
      "4/4 [==============================] - 0s 994us/step - loss: 465.1492\n",
      "Epoch 86/200\n",
      "4/4 [==============================] - 0s 1ms/step - loss: 464.0636\n",
      "Epoch 87/200\n",
      "4/4 [==============================] - 0s 997us/step - loss: 422.4640\n",
      "Epoch 88/200\n",
      "4/4 [==============================] - 0s 997us/step - loss: 422.3822\n",
      "Epoch 89/200\n",
      "4/4 [==============================] - 0s 1ms/step - loss: 410.4898\n",
      "Epoch 90/200\n",
      "4/4 [==============================] - 0s 998us/step - loss: 392.9630\n",
      "Epoch 91/200\n",
      "4/4 [==============================] - 0s 1ms/step - loss: 363.8496\n",
      "Epoch 92/200\n",
      "4/4 [==============================] - 0s 1ms/step - loss: 357.4882\n",
      "Epoch 93/200\n",
      "4/4 [==============================] - 0s 1ms/step - loss: 313.1203\n",
      "Epoch 94/200\n",
      "4/4 [==============================] - 0s 997us/step - loss: 314.8653\n",
      "Epoch 95/200\n",
      "4/4 [==============================] - 0s 997us/step - loss: 302.1289\n",
      "Epoch 96/200\n",
      "4/4 [==============================] - 0s 1ms/step - loss: 278.3329\n",
      "Epoch 97/200\n",
      "4/4 [==============================] - 0s 2ms/step - loss: 279.9413\n",
      "Epoch 98/200\n",
      "4/4 [==============================] - 0s 1ms/step - loss: 241.4103\n",
      "Epoch 99/200\n",
      "4/4 [==============================] - 0s 1ms/step - loss: 235.9576\n",
      "Epoch 100/200\n"
     ]
    },
    {
     "name": "stdout",
     "output_type": "stream",
     "text": [
      "4/4 [==============================] - 0s 1ms/step - loss: 215.0738\n",
      "Epoch 101/200\n",
      "4/4 [==============================] - 0s 1ms/step - loss: 215.7011\n",
      "Epoch 102/200\n",
      "4/4 [==============================] - 0s 997us/step - loss: 199.0906\n",
      "Epoch 103/200\n",
      "4/4 [==============================] - 0s 665us/step - loss: 195.2964\n",
      "Epoch 104/200\n",
      "4/4 [==============================] - 0s 1ms/step - loss: 177.6526\n",
      "Epoch 105/200\n",
      "4/4 [==============================] - 0s 1ms/step - loss: 168.0839\n",
      "Epoch 106/200\n",
      "4/4 [==============================] - 0s 3ms/step - loss: 167.8651\n",
      "Epoch 107/200\n",
      "4/4 [==============================] - 0s 2ms/step - loss: 151.8914\n",
      "Epoch 108/200\n",
      "4/4 [==============================] - 0s 1ms/step - loss: 147.2572\n",
      "Epoch 109/200\n",
      "4/4 [==============================] - 0s 2ms/step - loss: 137.1940\n",
      "Epoch 110/200\n",
      "4/4 [==============================] - 0s 1ms/step - loss: 130.0570\n",
      "Epoch 111/200\n",
      "4/4 [==============================] - 0s 2ms/step - loss: 114.3630\n",
      "Epoch 112/200\n",
      "4/4 [==============================] - 0s 2ms/step - loss: 101.7278\n",
      "Epoch 113/200\n",
      "4/4 [==============================] - 0s 3ms/step - loss: 97.3132\n",
      "Epoch 114/200\n",
      "4/4 [==============================] - 0s 2ms/step - loss: 87.2753\n",
      "Epoch 115/200\n",
      "4/4 [==============================] - 0s 3ms/step - loss: 87.0014\n",
      "Epoch 116/200\n",
      "4/4 [==============================] - 0s 2ms/step - loss: 83.8508\n",
      "Epoch 117/200\n",
      "4/4 [==============================] - 0s 1ms/step - loss: 81.7522\n",
      "Epoch 118/200\n",
      "4/4 [==============================] - 0s 1ms/step - loss: 75.9010\n",
      "Epoch 119/200\n",
      "4/4 [==============================] - 0s 2ms/step - loss: 72.2156\n",
      "Epoch 120/200\n",
      "4/4 [==============================] - 0s 997us/step - loss: 66.4624\n",
      "Epoch 121/200\n",
      "4/4 [==============================] - 0s 997us/step - loss: 65.3108\n",
      "Epoch 122/200\n",
      "4/4 [==============================] - 0s 997us/step - loss: 64.7785\n",
      "Epoch 123/200\n",
      "4/4 [==============================] - ETA: 0s - loss: 49.57 - 0s 2ms/step - loss: 53.0223\n",
      "Epoch 124/200\n",
      "4/4 [==============================] - 0s 1ms/step - loss: 56.0306\n",
      "Epoch 125/200\n",
      "4/4 [==============================] - 0s 1ms/step - loss: 50.8645\n",
      "Epoch 126/200\n",
      "4/4 [==============================] - 0s 1ms/step - loss: 47.1244\n",
      "Epoch 127/200\n",
      "4/4 [==============================] - 0s 1ms/step - loss: 48.0455\n",
      "Epoch 128/200\n",
      "4/4 [==============================] - 0s 2ms/step - loss: 43.7630\n",
      "Epoch 129/200\n",
      "4/4 [==============================] - 0s 2ms/step - loss: 39.5417\n",
      "Epoch 130/200\n",
      "4/4 [==============================] - 0s 2ms/step - loss: 38.4423\n",
      "Epoch 131/200\n",
      "4/4 [==============================] - 0s 998us/step - loss: 36.9001\n",
      "Epoch 132/200\n",
      "4/4 [==============================] - 0s 2ms/step - loss: 39.0981\n",
      "Epoch 133/200\n",
      "4/4 [==============================] - 0s 1ms/step - loss: 34.9510\n",
      "Epoch 134/200\n",
      "4/4 [==============================] - 0s 1ms/step - loss: 33.8341\n",
      "Epoch 135/200\n",
      "4/4 [==============================] - 0s 1ms/step - loss: 30.5636\n",
      "Epoch 136/200\n",
      "4/4 [==============================] - 0s 2ms/step - loss: 29.3832\n",
      "Epoch 137/200\n",
      "4/4 [==============================] - 0s 997us/step - loss: 30.2941\n",
      "Epoch 138/200\n",
      "4/4 [==============================] - 0s 1ms/step - loss: 28.8898\n",
      "Epoch 139/200\n",
      "4/4 [==============================] - 0s 991us/step - loss: 24.6629\n",
      "Epoch 140/200\n",
      "4/4 [==============================] - 0s 1ms/step - loss: 25.7624\n",
      "Epoch 141/200\n",
      "4/4 [==============================] - 0s 1ms/step - loss: 24.8703\n",
      "Epoch 142/200\n",
      "4/4 [==============================] - 0s 2ms/step - loss: 25.9018\n",
      "Epoch 143/200\n",
      "4/4 [==============================] - 0s 997us/step - loss: 24.0127\n",
      "Epoch 144/200\n",
      "4/4 [==============================] - 0s 2ms/step - loss: 23.6004\n",
      "Epoch 145/200\n",
      "4/4 [==============================] - 0s 1ms/step - loss: 24.2887\n",
      "Epoch 146/200\n",
      "4/4 [==============================] - 0s 1ms/step - loss: 24.2833\n",
      "Epoch 147/200\n",
      "4/4 [==============================] - 0s 1ms/step - loss: 22.2737\n",
      "Epoch 148/200\n",
      "4/4 [==============================] - 0s 2ms/step - loss: 23.4862\n",
      "Epoch 149/200\n",
      "4/4 [==============================] - 0s 1ms/step - loss: 22.6643\n",
      "Epoch 150/200\n",
      "4/4 [==============================] - 0s 1ms/step - loss: 20.1609\n",
      "Epoch 151/200\n",
      "4/4 [==============================] - 0s 997us/step - loss: 18.2281\n",
      "Epoch 152/200\n",
      "4/4 [==============================] - 0s 2ms/step - loss: 20.3335\n",
      "Epoch 153/200\n",
      "4/4 [==============================] - 0s 997us/step - loss: 21.6599\n",
      "Epoch 154/200\n",
      "4/4 [==============================] - 0s 1ms/step - loss: 21.2974\n",
      "Epoch 155/200\n",
      "4/4 [==============================] - 0s 1ms/step - loss: 21.5345\n",
      "Epoch 156/200\n",
      "4/4 [==============================] - 0s 1ms/step - loss: 22.1293\n",
      "Epoch 157/200\n",
      "4/4 [==============================] - 0s 1ms/step - loss: 20.1865\n",
      "Epoch 158/200\n",
      "4/4 [==============================] - 0s 1ms/step - loss: 19.4971\n",
      "Epoch 159/200\n",
      "4/4 [==============================] - 0s 2ms/step - loss: 21.1375\n",
      "Epoch 160/200\n",
      "4/4 [==============================] - 0s 1ms/step - loss: 20.9102\n",
      "Epoch 161/200\n",
      "4/4 [==============================] - 0s 1ms/step - loss: 19.8374\n",
      "Epoch 162/200\n",
      "4/4 [==============================] - 0s 997us/step - loss: 18.7855\n",
      "Epoch 163/200\n",
      "4/4 [==============================] - 0s 1ms/step - loss: 18.5482\n",
      "Epoch 164/200\n",
      "4/4 [==============================] - 0s 1ms/step - loss: 17.9331\n",
      "Epoch 165/200\n",
      "4/4 [==============================] - ETA: 0s - loss: 16.12 - 0s 1ms/step - loss: 19.0958\n",
      "Epoch 166/200\n",
      "4/4 [==============================] - 0s 1ms/step - loss: 19.7017\n",
      "Epoch 167/200\n",
      "4/4 [==============================] - 0s 1ms/step - loss: 19.2783\n",
      "Epoch 168/200\n",
      "4/4 [==============================] - 0s 1ms/step - loss: 16.5977\n",
      "Epoch 169/200\n",
      "4/4 [==============================] - 0s 997us/step - loss: 18.0919\n",
      "Epoch 170/200\n",
      "4/4 [==============================] - 0s 2ms/step - loss: 18.8563\n",
      "Epoch 171/200\n",
      "4/4 [==============================] - 0s 997us/step - loss: 16.8721\n",
      "Epoch 172/200\n",
      "4/4 [==============================] - 0s 1ms/step - loss: 18.2677\n",
      "Epoch 173/200\n",
      "4/4 [==============================] - 0s 997us/step - loss: 18.2497\n",
      "Epoch 174/200\n",
      "4/4 [==============================] - 0s 2ms/step - loss: 20.2360\n",
      "Epoch 175/200\n",
      "4/4 [==============================] - 0s 3ms/step - loss: 18.6117\n",
      "Epoch 176/200\n",
      "4/4 [==============================] - 0s 6ms/step - loss: 20.1696\n",
      "Epoch 177/200\n",
      "4/4 [==============================] - 0s 4ms/step - loss: 21.3282\n",
      "Epoch 178/200\n",
      "4/4 [==============================] - 0s 4ms/step - loss: 20.5562\n",
      "Epoch 179/200\n",
      "4/4 [==============================] - 0s 4ms/step - loss: 18.0595\n",
      "Epoch 180/200\n",
      "4/4 [==============================] - 0s 5ms/step - loss: 18.7288\n",
      "Epoch 181/200\n",
      "4/4 [==============================] - 0s 5ms/step - loss: 18.3057\n",
      "Epoch 182/200\n",
      "4/4 [==============================] - 0s 4ms/step - loss: 18.4106\n",
      "Epoch 183/200\n",
      "4/4 [==============================] - 0s 4ms/step - loss: 19.2864\n",
      "Epoch 184/200\n",
      "4/4 [==============================] - 0s 2ms/step - loss: 17.7074\n",
      "Epoch 185/200\n",
      "4/4 [==============================] - 0s 3ms/step - loss: 18.6805\n",
      "Epoch 186/200\n",
      "4/4 [==============================] - 0s 3ms/step - loss: 19.0231\n",
      "Epoch 187/200\n",
      "4/4 [==============================] - 0s 2ms/step - loss: 17.1326\n",
      "Epoch 188/200\n",
      "4/4 [==============================] - 0s 2ms/step - loss: 20.5280\n",
      "Epoch 189/200\n",
      "4/4 [==============================] - 0s 2ms/step - loss: 19.4107\n",
      "Epoch 190/200\n",
      "4/4 [==============================] - 0s 1ms/step - loss: 17.3929\n",
      "Epoch 191/200\n",
      "4/4 [==============================] - 0s 997us/step - loss: 20.7331\n",
      "Epoch 192/200\n",
      "4/4 [==============================] - 0s 997us/step - loss: 19.6466\n",
      "Epoch 193/200\n",
      "4/4 [==============================] - 0s 1ms/step - loss: 18.4594\n",
      "Epoch 194/200\n",
      "4/4 [==============================] - 0s 997us/step - loss: 18.8933\n",
      "Epoch 195/200\n",
      "4/4 [==============================] - 0s 997us/step - loss: 16.5585\n",
      "Epoch 196/200\n",
      "4/4 [==============================] - 0s 1ms/step - loss: 19.1925\n",
      "Epoch 197/200\n",
      "4/4 [==============================] - 0s 1ms/step - loss: 18.8165\n",
      "Epoch 198/200\n",
      "4/4 [==============================] - 0s 1ms/step - loss: 19.7018\n",
      "Epoch 199/200\n",
      "4/4 [==============================] - 0s 998us/step - loss: 18.5297\n",
      "Epoch 200/200\n"
     ]
    },
    {
     "name": "stdout",
     "output_type": "stream",
     "text": [
      "4/4 [==============================] - 0s 997us/step - loss: 18.3000\n"
     ]
    },
    {
     "data": {
      "text/plain": [
       "<tensorflow.python.keras.callbacks.History at 0x2413a5d5bc8>"
      ]
     },
     "execution_count": 35,
     "metadata": {},
     "output_type": "execute_result"
    }
   ],
   "source": [
    "model.fit(x,y,epochs=200)"
   ]
  },
  {
   "cell_type": "code",
   "execution_count": 36,
   "metadata": {},
   "outputs": [
    {
     "data": {
      "text/plain": [
       "[2883.373046875,\n",
       " 2862.184326171875,\n",
       " 2841.2880859375,\n",
       " 2819.3046875,\n",
       " 2797.63525390625,\n",
       " 2775.59228515625,\n",
       " 2754.2744140625,\n",
       " 2730.807861328125,\n",
       " 2709.783447265625,\n",
       " 2687.003173828125,\n",
       " 2664.9345703125,\n",
       " 2640.847900390625,\n",
       " 2617.9619140625,\n",
       " 2593.592529296875,\n",
       " 2567.810546875,\n",
       " 2542.8466796875,\n",
       " 2516.841064453125,\n",
       " 2489.603515625,\n",
       " 2462.88330078125,\n",
       " 2435.981201171875,\n",
       " 2408.208984375,\n",
       " 2380.870849609375,\n",
       " 2352.319091796875,\n",
       " 2325.411865234375,\n",
       " 2296.774169921875,\n",
       " 2268.390869140625,\n",
       " 2239.87646484375,\n",
       " 2212.758544921875,\n",
       " 2183.732421875,\n",
       " 2154.880615234375,\n",
       " 2126.61767578125,\n",
       " 2096.017822265625,\n",
       " 2066.864501953125,\n",
       " 2033.71875,\n",
       " 2002.662841796875,\n",
       " 1970.9949951171875,\n",
       " 1937.5863037109375,\n",
       " 1907.0784912109375,\n",
       " 1873.8076171875,\n",
       " 1841.0965576171875,\n",
       " 1804.6768798828125,\n",
       " 1770.84375,\n",
       " 1738.17041015625,\n",
       " 1705.5997314453125,\n",
       " 1673.325439453125,\n",
       " 1639.21533203125,\n",
       " 1604.9892578125,\n",
       " 1570.84765625,\n",
       " 1538.1151123046875,\n",
       " 1502.482177734375,\n",
       " 1469.6097412109375,\n",
       " 1435.9727783203125,\n",
       " 1404.3504638671875,\n",
       " 1372.7442626953125,\n",
       " 1336.510986328125,\n",
       " 1304.1195068359375,\n",
       " 1270.61865234375,\n",
       " 1236.5252685546875,\n",
       " 1203.0596923828125,\n",
       " 1169.256591796875,\n",
       " 1136.52490234375,\n",
       " 1104.1422119140625,\n",
       " 1070.7930908203125,\n",
       " 1038.2445068359375,\n",
       " 1005.8217163085938,\n",
       " 973.7620239257812,\n",
       " 941.8778686523438,\n",
       " 911.8506469726562,\n",
       " 882.13134765625,\n",
       " 853.4536743164062,\n",
       " 824.6070556640625,\n",
       " 796.4991455078125,\n",
       " 767.6871948242188,\n",
       " 739.4324951171875,\n",
       " 710.364501953125,\n",
       " 682.2999877929688,\n",
       " 657.2932739257812,\n",
       " 633.07080078125,\n",
       " 609.2828369140625,\n",
       " 587.6410522460938,\n",
       " 563.8693237304688,\n",
       " 541.081298828125,\n",
       " 519.6923828125,\n",
       " 495.8585510253906,\n",
       " 474.3477478027344,\n",
       " 453.8031921386719,\n",
       " 433.2891540527344,\n",
       " 414.122314453125,\n",
       " 395.0570373535156,\n",
       " 377.01776123046875,\n",
       " 359.5503234863281,\n",
       " 343.4150695800781,\n",
       " 326.326904296875,\n",
       " 310.9952087402344,\n",
       " 295.3285827636719,\n",
       " 280.064453125,\n",
       " 265.9248962402344,\n",
       " 251.31373596191406,\n",
       " 238.26376342773438,\n",
       " 225.0322265625,\n",
       " 213.32569885253906,\n",
       " 201.35162353515625,\n",
       " 190.5884552001953,\n",
       " 179.93431091308594,\n",
       " 169.44033813476562,\n",
       " 159.62106323242188,\n",
       " 149.74900817871094,\n",
       " 140.91419982910156,\n",
       " 132.4076690673828,\n",
       " 124.45709991455078,\n",
       " 116.63343048095703,\n",
       " 109.59747314453125,\n",
       " 102.74072265625,\n",
       " 95.99932861328125,\n",
       " 90.08221435546875,\n",
       " 84.32510375976562,\n",
       " 79.32281494140625,\n",
       " 74.51609802246094,\n",
       " 70.13729858398438,\n",
       " 65.98942565917969,\n",
       " 62.512638092041016,\n",
       " 59.23995590209961,\n",
       " 56.13591003417969,\n",
       " 53.52842712402344,\n",
       " 50.75718688964844,\n",
       " 48.222816467285156,\n",
       " 45.958499908447266,\n",
       " 43.67912673950195,\n",
       " 41.60456466674805,\n",
       " 39.60456466674805,\n",
       " 37.780120849609375,\n",
       " 36.13911437988281,\n",
       " 34.39525604248047,\n",
       " 32.903526306152344,\n",
       " 31.442350387573242,\n",
       " 30.231592178344727,\n",
       " 29.10262680053711,\n",
       " 27.996604919433594,\n",
       " 26.985502243041992,\n",
       " 26.196701049804688,\n",
       " 25.552936553955078,\n",
       " 24.885902404785156,\n",
       " 24.323335647583008,\n",
       " 23.800922393798828,\n",
       " 23.312978744506836,\n",
       " 22.869121551513672,\n",
       " 22.482664108276367,\n",
       " 22.12140464782715,\n",
       " 21.769697189331055,\n",
       " 21.475177764892578,\n",
       " 21.192049026489258,\n",
       " 20.987913131713867,\n",
       " 20.740568161010742,\n",
       " 20.534740447998047,\n",
       " 20.34605598449707,\n",
       " 20.161890029907227,\n",
       " 19.967811584472656,\n",
       " 19.810514450073242,\n",
       " 19.673749923706055,\n",
       " 19.536481857299805,\n",
       " 19.455650329589844,\n",
       " 19.353988647460938,\n",
       " 19.27597427368164,\n",
       " 19.177783966064453,\n",
       " 19.115549087524414,\n",
       " 19.053089141845703,\n",
       " 19.01019859313965,\n",
       " 18.95531463623047,\n",
       " 18.913442611694336,\n",
       " 18.886383056640625,\n",
       " 18.869953155517578,\n",
       " 18.85773468017578,\n",
       " 18.841039657592773,\n",
       " 18.819982528686523,\n",
       " 18.804664611816406,\n",
       " 18.781871795654297,\n",
       " 18.76128578186035,\n",
       " 18.733800888061523,\n",
       " 18.70245933532715,\n",
       " 18.684741973876953,\n",
       " 18.65233612060547,\n",
       " 18.6488094329834,\n",
       " 18.633424758911133,\n",
       " 18.633581161499023,\n",
       " 18.61619758605957,\n",
       " 18.61487579345703,\n",
       " 18.612211227416992,\n",
       " 18.610374450683594,\n",
       " 18.615169525146484,\n",
       " 18.6077823638916,\n",
       " 18.6096134185791,\n",
       " 18.606847763061523,\n",
       " 18.60443115234375,\n",
       " 18.598491668701172,\n",
       " 18.59398651123047,\n",
       " 18.606599807739258,\n",
       " 18.599000930786133,\n",
       " 18.601160049438477,\n",
       " 18.6055965423584,\n",
       " 18.620206832885742]"
      ]
     },
     "execution_count": 36,
     "metadata": {},
     "output_type": "execute_result"
    }
   ],
   "source": [
    "model.history.history['loss']"
   ]
  },
  {
   "cell_type": "code",
   "execution_count": 37,
   "metadata": {},
   "outputs": [
    {
     "data": {
      "text/plain": [
       "[<matplotlib.lines.Line2D at 0x2413b9437c8>]"
      ]
     },
     "execution_count": 37,
     "metadata": {},
     "output_type": "execute_result"
    },
    {
     "data": {
      "image/png": "[encoded data removed]",
      "text/plain": [
       "<Figure size 432x288 with 1 Axes>"
      ]
     },
     "metadata": {
      "needs_background": "light"
     },
     "output_type": "display_data"
    }
   ],
   "source": [
    "loss= model.history.history['loss']\n",
    "epochs= range(len(loss))\n",
    "\n",
    "plt.plot(epochs,loss)"
   ]
  },
  {
   "cell_type": "markdown",
   "metadata": {},
   "source": [
    "# Predictions\n",
    "Our previous x was 50 linspace points between 0 and 100. Let's predict for 1000 values between 0 and 100, drawing a line for our predictions (our line of best fit)."
   ]
  },
  {
   "cell_type": "code",
   "execution_count": 38,
   "metadata": {},
   "outputs": [],
   "source": [
    "x_for_predictions= np.linspace(0,50,100)\n",
    "\n",
    "y_pred= model.predict(x_for_predictions)"
   ]
  },
  {
   "cell_type": "code",
   "execution_count": 28,
   "metadata": {},
   "outputs": [],
   "source": [
    "#y_pred"
   ]
  },
  {
   "cell_type": "code",
   "execution_count": 39,
   "metadata": {},
   "outputs": [
    {
     "data": {
      "text/plain": [
       "[<matplotlib.lines.Line2D at 0x2413ba165c8>]"
      ]
     },
     "execution_count": 39,
     "metadata": {},
     "output_type": "execute_result"
    },
    {
     "data": {
      "image/png": "[encoded data removed]",
      "text/plain": [
       "<Figure size 432x288 with 1 Axes>"
      ]
     },
     "metadata": {
      "needs_background": "light"
     },
     "output_type": "display_data"
    }
   ],
   "source": [
    "plt.plot(x,y,'*')\n",
    "plt.plot(x_for_predictions,y_pred,'r')"
   ]
  },
  {
   "cell_type": "markdown",
   "metadata": {},
   "source": [
    "## Evaluate Error"
   ]
  },
  {
   "cell_type": "code",
   "execution_count": 40,
   "metadata": {},
   "outputs": [],
   "source": [
    "from sklearn.metrics import mean_squared_error"
   ]
  },
  {
   "cell_type": "code",
   "execution_count": 41,
   "metadata": {},
   "outputs": [
    {
     "data": {
      "text/plain": [
       "18.616211634023674"
      ]
     },
     "execution_count": 41,
     "metadata": {},
     "output_type": "execute_result"
    }
   ],
   "source": [
    "mean_squared_error(y,y_pred)"
   ]
  },
  {
   "cell_type": "markdown",
   "metadata": {},
   "source": [
    " Notice how MSE value was being reported out by Keras during training!\n",
    " \n",
    " Is this a good error value? Really depends on the context, refer back to our model evaluation lecture for full details!"
   ]
  },
  {
   "cell_type": "code",
   "execution_count": null,
   "metadata": {},
   "outputs": [],
   "source": []
  }
 ],
 "metadata": {
  "kernelspec": {
   "display_name": "Python 3",
   "language": "python",
   "name": "python3"
  },
  "language_info": {
   "codemirror_mode": {
    "name": "ipython",
    "version": 3
   },
   "file_extension": ".py",
   "mimetype": "text/x-python",
   "name": "python",
   "nbconvert_exporter": "python",
   "pygments_lexer": "ipython3",
   "version": "3.7.6"
  }
 },
 "nbformat": 4,
 "nbformat_minor": 4
}
